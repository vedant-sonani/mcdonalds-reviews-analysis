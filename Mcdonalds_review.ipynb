{
  "nbformat": 4,
  "nbformat_minor": 0,
  "metadata": {
    "colab": {
      "provenance": [],
      "toc_visible": true
    },
    "kernelspec": {
      "name": "python3",
      "display_name": "Python 3"
    },
    "language_info": {
      "name": "python"
    }
  },
  "cells": [
    {
      "cell_type": "markdown",
      "source": [
        "from google.colab import files\n",
        "uploaded = files.upload()\n",
        "\n",
        "df = pd.read_csv('McDonald_s_Reviews.csv')\n",
        "df.head()"
      ],
      "metadata": {
        "id": "SoPMOru-qb37"
      }
    },
    {
      "cell_type": "code",
      "source": [
        "!pip install plotly\n",
        "\n",
        "import pandas as pd\n",
        "import matplotlib.pyplot as plt\n",
        "import seaborn as sns\n",
        "import plotly.express as px\n",
        "import plotly.graph_objects as go\n"
      ],
      "metadata": {
        "colab": {
          "base_uri": "https://localhost:8080/"
        },
        "id": "HYglEbz3JepO",
        "outputId": "cacfb9a5-f23e-49f2-c2a9-b7684146f79e"
      },
      "execution_count": null,
      "outputs": [
        {
          "output_type": "stream",
          "name": "stdout",
          "text": [
            "Requirement already satisfied: plotly in /usr/local/lib/python3.10/dist-packages (5.15.0)\n",
            "Requirement already satisfied: tenacity>=6.2.0 in /usr/local/lib/python3.10/dist-packages (from plotly) (8.5.0)\n",
            "Requirement already satisfied: packaging in /usr/local/lib/python3.10/dist-packages (from plotly) (24.1)\n"
          ]
        }
      ]
    },
    {
      "cell_type": "code",
      "source": [
        "df = pd.read_csv('/content/McDonald_s_Reviews.csv', encoding='latin-1')\n",
        "\n",
        "print(df.iloc[0])\n",
        "\n",
        "print(df.columns)"
      ],
      "metadata": {
        "colab": {
          "base_uri": "https://localhost:8080/"
        },
        "id": "F7XTXLaTrRCp",
        "outputId": "2136bfe4-5491-4bb6-94d6-4bef505cf72e"
      },
      "execution_count": null,
      "outputs": [
        {
          "output_type": "stream",
          "name": "stdout",
          "text": [
            "reviewer_id                                                      1\n",
            "store_name                                              McDonald's\n",
            "category                                      Fast food restaurant\n",
            "store_address    13749 US-183 Hwy, Austin, TX 78750, United States\n",
            "latitude                                                 30.460718\n",
            "longitude                                               -97.792874\n",
            "rating_count                                                 1,240\n",
            "review_time                                           3 months ago\n",
            "review           Why does it look like someone spit on my food?...\n",
            "rating                                                      1 star\n",
            "Name: 0, dtype: object\n",
            "Index(['reviewer_id', 'store_name', 'category', 'store_address', 'latitude ',\n",
            "       'longitude', 'rating_count', 'review_time', 'review', 'rating'],\n",
            "      dtype='object')\n"
          ]
        }
      ]
    },
    {
      "cell_type": "code",
      "source": [
        "print(df.info())\n",
        "print(df.isnull().sum())\n",
        "\n",
        "df.dropna(subset=['review', 'rating'], inplace=True)\n",
        "\n",
        "df.drop_duplicates(subset=['review'], inplace=True)"
      ],
      "metadata": {
        "colab": {
          "base_uri": "https://localhost:8080/"
        },
        "id": "3pWAoBRHFCAG",
        "outputId": "7a8b827d-fa5d-4b14-a2fb-c83be5eb64b3"
      },
      "execution_count": null,
      "outputs": [
        {
          "output_type": "stream",
          "name": "stdout",
          "text": [
            "<class 'pandas.core.frame.DataFrame'>\n",
            "RangeIndex: 33396 entries, 0 to 33395\n",
            "Data columns (total 10 columns):\n",
            " #   Column         Non-Null Count  Dtype  \n",
            "---  ------         --------------  -----  \n",
            " 0   reviewer_id    33396 non-null  int64  \n",
            " 1   store_name     33396 non-null  object \n",
            " 2   category       33396 non-null  object \n",
            " 3   store_address  33396 non-null  object \n",
            " 4   latitude       32736 non-null  float64\n",
            " 5   longitude      32736 non-null  float64\n",
            " 6   rating_count   33396 non-null  object \n",
            " 7   review_time    33396 non-null  object \n",
            " 8   review         33396 non-null  object \n",
            " 9   rating         33396 non-null  object \n",
            "dtypes: float64(2), int64(1), object(7)\n",
            "memory usage: 2.5+ MB\n",
            "None\n",
            "reviewer_id        0\n",
            "store_name         0\n",
            "category           0\n",
            "store_address      0\n",
            "latitude         660\n",
            "longitude        660\n",
            "rating_count       0\n",
            "review_time        0\n",
            "review             0\n",
            "rating             0\n",
            "dtype: int64\n"
          ]
        }
      ]
    },
    {
      "cell_type": "code",
      "source": [
        "def parse_rating(rating):\n",
        "    if isinstance(rating, str):\n",
        "        return int(rating.split()[0])\n",
        "    return rating\n",
        "\n",
        "df['rating'] = df['rating'].apply(parse_rating)\n",
        "\n",
        "print(df.columns)\n",
        "\n",
        "df = df.rename(columns={'latitude ': 'latitude'})\n",
        "\n",
        "avg_rating_per_store = df.groupby(['store_name', 'latitude', 'longitude']).agg(\n",
        "    avg_rating=('rating', 'mean'),\n",
        "    rating_count=('rating', 'size')\n",
        ").reset_index()\n",
        "\n",
        "top_10_stores = avg_rating_per_store.nlargest(10, 'rating_count')\n",
        "\n",
        "print(\"Top 10 stores with the highest number of ratings:\")\n",
        "print(top_10_stores[['store_name', 'latitude', 'longitude', 'rating_count']])\n"
      ],
      "metadata": {
        "colab": {
          "base_uri": "https://localhost:8080/"
        },
        "id": "ABtTS_2RF6Rd",
        "outputId": "2bf449ce-aa42-4e91-886b-abf1df2e0470"
      },
      "execution_count": null,
      "outputs": [
        {
          "output_type": "stream",
          "name": "stdout",
          "text": [
            "Index(['reviewer_id', 'store_name', 'category', 'store_address', 'latitude ',\n",
            "       'longitude', 'rating_count', 'review_time', 'review', 'rating',\n",
            "       'state'],\n",
            "      dtype='object')\n",
            "Top 10 stores with the highest number of ratings:\n",
            "    store_name   latitude   longitude  rating_count\n",
            "4   McDonald's  28.423814  -81.461242          1130\n",
            "1   McDonald's  25.810000  -80.189098           995\n",
            "10  McDonald's  32.744596  -96.812286           982\n",
            "29  McDonald's  40.727401  -73.812460           953\n",
            "2   McDonald's  28.333508  -81.513738           939\n",
            "20  McDonald's  36.090244 -115.175822           929\n",
            "34  McDonald's  40.759057 -111.897383           882\n",
            "33  McDonald's  40.752529  -73.992876           862\n",
            "31  McDonald's  40.750506  -73.990583           716\n",
            "30  McDonald's  40.729126  -73.993264           708\n"
          ]
        }
      ]
    },
    {
      "cell_type": "code",
      "source": [
        "\n",
        "def parse_rating(rating):\n",
        "    if isinstance(rating, str):\n",
        "        return int(rating.split()[0])\n",
        "    return rating\n",
        "\n",
        "df['rating'] = df['rating'].apply(parse_rating)\n",
        "\n",
        "\n",
        "print(df.columns)\n",
        "\n",
        "df = df.rename(columns={'latitude ': 'latitude'})\n",
        "\n",
        "avg_rating_per_store = df.groupby(['latitude', 'longitude'])['rating'].mean().reset_index()\n",
        "avg_rating_per_store.columns = ['latitude', 'longitude', 'avg_rating']\n"
      ],
      "metadata": {
        "colab": {
          "base_uri": "https://localhost:8080/"
        },
        "id": "tGRJ5X0LHnLn",
        "outputId": "4aa81e6d-2874-4416-aa80-0af7d7a75c74"
      },
      "execution_count": null,
      "outputs": [
        {
          "output_type": "stream",
          "name": "stdout",
          "text": [
            "Index(['reviewer_id', 'store_name', 'category', 'store_address', 'latitude ',\n",
            "       'longitude', 'rating_count', 'review_time', 'review', 'rating',\n",
            "       'sentiment'],\n",
            "      dtype='object')\n"
          ]
        }
      ]
    },
    {
      "cell_type": "code",
      "source": [
        "fig = px.scatter_3d(avg_rating_per_store,\n",
        "                    x='longitude',\n",
        "                    y='latitude',\n",
        "                    z='avg_rating',\n",
        "                    color='avg_rating',\n",
        "                    title='3D Visualization of Average Rating by Store Location',\n",
        "                    labels={'longitude': 'Longitude', 'latitude': 'Latitude', 'avg_rating': 'Average Rating'})\n",
        "\n",
        "fig.show()\n"
      ],
      "metadata": {
        "colab": {
          "base_uri": "https://localhost:8080/",
          "height": 542
        },
        "id": "T8ZUZ39TJSoP",
        "outputId": "5d732dd4-4395-46d9-e7aa-1f041711e630"
      },
      "execution_count": null,
      "outputs": [
        {
          "output_type": "display_data",
          "data": {
            "text/html": [
              "<html>\n",
              "<head><meta charset=\"utf-8\" /></head>\n",
              "<body>\n",
              "    <div>            <script src=\"https://cdnjs.cloudflare.com/ajax/libs/mathjax/2.7.5/MathJax.js?config=TeX-AMS-MML_SVG\"></script><script type=\"text/javascript\">if (window.MathJax && window.MathJax.Hub && window.MathJax.Hub.Config) {window.MathJax.Hub.Config({SVG: {font: \"STIX-Web\"}});}</script>                <script type=\"text/javascript\">window.PlotlyConfig = {MathJaxConfig: 'local'};</script>\n",
              "        <script charset=\"utf-8\" src=\"https://cdn.plot.ly/plotly-2.24.1.min.js\"></script>                <div id=\"61c187e5-2259-4963-9bea-5373dccd24e4\" class=\"plotly-graph-div\" style=\"height:525px; width:100%;\"></div>            <script type=\"text/javascript\">                                    window.PLOTLYENV=window.PLOTLYENV || {};                                    if (document.getElementById(\"61c187e5-2259-4963-9bea-5373dccd24e4\")) {                    Plotly.newPlot(                        \"61c187e5-2259-4963-9bea-5373dccd24e4\",                        [{\"hovertemplate\":\"Longitude=%{x}\\u003cbr\\u003eLatitude=%{y}\\u003cbr\\u003eAverage Rating=%{marker.color}\\u003cextra\\u003e\\u003c\\u002fextra\\u003e\",\"legendgroup\":\"\",\"marker\":{\"color\":[1.9414893617021276,2.5597989949748743,2.847710330138445,3.0564263322884013,2.633628318584071,3.65359477124183,3.2872503840245777,3.0106951871657754,2.28125,2.917948717948718,3.164969450101833,2.692953020134228,3.259259259259259,2.8244803695150114,3.2433035714285716,2.465263157894737,3.2273504273504274,3.0605504587155963,3.6666666666666665,3.2327586206896552,2.8869752421959096,3.170245398773006,3.2930232558139534,2.6666666666666665,3.381898454746137,3.2916666666666665,2.3333333333333335,3.1226765799256504,3.3333333333333335,3.119622245540399,3.0338983050847457,3.505586592178771,1.9166666666666667,2.948955916473318,2.507936507936508,2.6588628762541804,3.072407045009785,3.177101967799642,3.1645569620253164,5.0,1.3333333333333333,4.5,1.0,4.0,4.0,5.0,4.0,4.0,5.0,3.0,2.0,5.0,1.0,5.0,5.0,5.0,3.0,5.0,3.0,4.0,1.0,3.0,4.0,4.0,2.5,3.0,2.5,5.0,3.0,5.0,4.0,5.0],\"coloraxis\":\"coloraxis\",\"symbol\":\"circle\"},\"mode\":\"markers\",\"name\":\"\",\"scene\":\"scene\",\"showlegend\":false,\"x\":[-80.1320774,-80.1890981,-81.5137384,-81.4051029,-81.4612421,-81.4714142,-81.3426916,-98.6345801,-97.6606295,-97.7928744,-96.8122859,-117.2494697,-117.1780115,-97.3076518,-97.2229254,-118.2829548,-118.4945396,-118.2382063,-118.4259996,-118.3679036,-115.1758223,-121.9954211,-77.1850548,-77.0289132,-77.0442355,-74.9810994,-74.0099791,-74.0011677,-73.9882797,-73.8124604,-73.9932643,-73.990583,-73.9890961,-73.9928762,-111.8973832,-74.1614754,-75.3999187,-87.7779131,-73.4598199,-80.1320774,-80.1890981,-81.5137384,-81.4051029,-81.4612421,-81.4714142,-81.3426916,-98.6345801,-97.6606295,-97.7928744,-96.8122859,-117.2494697,-117.1780115,-97.3076518,-97.2229254,-118.2829548,-118.4945396,-118.2382063,-118.3679036,-115.1758223,-121.9954211,-77.1850548,-77.0442355,-74.9810994,-74.0011677,-73.8124604,-73.9932643,-73.990583,-73.9928762,-111.8973832,-74.1614754,-75.3999187,-87.7779131],\"y\":[25.7902955,25.8099996,28.3335081,28.3999863,28.4238144,28.4503866,28.6553497,29.6762669,30.3291349,30.4607176,32.7445961,32.7976607,32.8206541,32.9580411,33.0093179,33.9312613,34.0122192,34.0352699,34.0565932,34.1525074,36.0902437,37.3854949,38.8128231,38.8969797,38.9054561,39.8520594,40.7093746,40.7185138,40.7188385,40.7274006,40.7291264,40.7505058,40.750831,40.7525294,40.7590573,40.7719101,40.9220806,41.8796564,44.9814099,25.7902955,25.8099996,28.3335081,28.3999863,28.4238144,28.4503866,28.6553497,29.6762669,30.3291349,30.4607176,32.7445961,32.7976607,32.8206541,32.9580411,33.0093179,33.9312613,34.0122192,34.0352699,34.1525074,36.0902437,37.3854949,38.8128231,38.9054561,39.8520594,40.7185138,40.7274006,40.7291264,40.7505058,40.7525294,40.7590573,40.7719101,40.9220806,41.8796564],\"z\":[1.9414893617021276,2.5597989949748743,2.847710330138445,3.0564263322884013,2.633628318584071,3.65359477124183,3.2872503840245777,3.0106951871657754,2.28125,2.917948717948718,3.164969450101833,2.692953020134228,3.259259259259259,2.8244803695150114,3.2433035714285716,2.465263157894737,3.2273504273504274,3.0605504587155963,3.6666666666666665,3.2327586206896552,2.8869752421959096,3.170245398773006,3.2930232558139534,2.6666666666666665,3.381898454746137,3.2916666666666665,2.3333333333333335,3.1226765799256504,3.3333333333333335,3.119622245540399,3.0338983050847457,3.505586592178771,1.9166666666666667,2.948955916473318,2.507936507936508,2.6588628762541804,3.072407045009785,3.177101967799642,3.1645569620253164,5.0,1.3333333333333333,4.5,1.0,4.0,4.0,5.0,4.0,4.0,5.0,3.0,2.0,5.0,1.0,5.0,5.0,5.0,3.0,5.0,3.0,4.0,1.0,3.0,4.0,4.0,2.5,3.0,2.5,5.0,3.0,5.0,4.0,5.0],\"type\":\"scatter3d\"}],                        {\"template\":{\"data\":{\"histogram2dcontour\":[{\"type\":\"histogram2dcontour\",\"colorbar\":{\"outlinewidth\":0,\"ticks\":\"\"},\"colorscale\":[[0.0,\"#0d0887\"],[0.1111111111111111,\"#46039f\"],[0.2222222222222222,\"#7201a8\"],[0.3333333333333333,\"#9c179e\"],[0.4444444444444444,\"#bd3786\"],[0.5555555555555556,\"#d8576b\"],[0.6666666666666666,\"#ed7953\"],[0.7777777777777778,\"#fb9f3a\"],[0.8888888888888888,\"#fdca26\"],[1.0,\"#f0f921\"]]}],\"choropleth\":[{\"type\":\"choropleth\",\"colorbar\":{\"outlinewidth\":0,\"ticks\":\"\"}}],\"histogram2d\":[{\"type\":\"histogram2d\",\"colorbar\":{\"outlinewidth\":0,\"ticks\":\"\"},\"colorscale\":[[0.0,\"#0d0887\"],[0.1111111111111111,\"#46039f\"],[0.2222222222222222,\"#7201a8\"],[0.3333333333333333,\"#9c179e\"],[0.4444444444444444,\"#bd3786\"],[0.5555555555555556,\"#d8576b\"],[0.6666666666666666,\"#ed7953\"],[0.7777777777777778,\"#fb9f3a\"],[0.8888888888888888,\"#fdca26\"],[1.0,\"#f0f921\"]]}],\"heatmap\":[{\"type\":\"heatmap\",\"colorbar\":{\"outlinewidth\":0,\"ticks\":\"\"},\"colorscale\":[[0.0,\"#0d0887\"],[0.1111111111111111,\"#46039f\"],[0.2222222222222222,\"#7201a8\"],[0.3333333333333333,\"#9c179e\"],[0.4444444444444444,\"#bd3786\"],[0.5555555555555556,\"#d8576b\"],[0.6666666666666666,\"#ed7953\"],[0.7777777777777778,\"#fb9f3a\"],[0.8888888888888888,\"#fdca26\"],[1.0,\"#f0f921\"]]}],\"heatmapgl\":[{\"type\":\"heatmapgl\",\"colorbar\":{\"outlinewidth\":0,\"ticks\":\"\"},\"colorscale\":[[0.0,\"#0d0887\"],[0.1111111111111111,\"#46039f\"],[0.2222222222222222,\"#7201a8\"],[0.3333333333333333,\"#9c179e\"],[0.4444444444444444,\"#bd3786\"],[0.5555555555555556,\"#d8576b\"],[0.6666666666666666,\"#ed7953\"],[0.7777777777777778,\"#fb9f3a\"],[0.8888888888888888,\"#fdca26\"],[1.0,\"#f0f921\"]]}],\"contourcarpet\":[{\"type\":\"contourcarpet\",\"colorbar\":{\"outlinewidth\":0,\"ticks\":\"\"}}],\"contour\":[{\"type\":\"contour\",\"colorbar\":{\"outlinewidth\":0,\"ticks\":\"\"},\"colorscale\":[[0.0,\"#0d0887\"],[0.1111111111111111,\"#46039f\"],[0.2222222222222222,\"#7201a8\"],[0.3333333333333333,\"#9c179e\"],[0.4444444444444444,\"#bd3786\"],[0.5555555555555556,\"#d8576b\"],[0.6666666666666666,\"#ed7953\"],[0.7777777777777778,\"#fb9f3a\"],[0.8888888888888888,\"#fdca26\"],[1.0,\"#f0f921\"]]}],\"surface\":[{\"type\":\"surface\",\"colorbar\":{\"outlinewidth\":0,\"ticks\":\"\"},\"colorscale\":[[0.0,\"#0d0887\"],[0.1111111111111111,\"#46039f\"],[0.2222222222222222,\"#7201a8\"],[0.3333333333333333,\"#9c179e\"],[0.4444444444444444,\"#bd3786\"],[0.5555555555555556,\"#d8576b\"],[0.6666666666666666,\"#ed7953\"],[0.7777777777777778,\"#fb9f3a\"],[0.8888888888888888,\"#fdca26\"],[1.0,\"#f0f921\"]]}],\"mesh3d\":[{\"type\":\"mesh3d\",\"colorbar\":{\"outlinewidth\":0,\"ticks\":\"\"}}],\"scatter\":[{\"fillpattern\":{\"fillmode\":\"overlay\",\"size\":10,\"solidity\":0.2},\"type\":\"scatter\"}],\"parcoords\":[{\"type\":\"parcoords\",\"line\":{\"colorbar\":{\"outlinewidth\":0,\"ticks\":\"\"}}}],\"scatterpolargl\":[{\"type\":\"scatterpolargl\",\"marker\":{\"colorbar\":{\"outlinewidth\":0,\"ticks\":\"\"}}}],\"bar\":[{\"error_x\":{\"color\":\"#2a3f5f\"},\"error_y\":{\"color\":\"#2a3f5f\"},\"marker\":{\"line\":{\"color\":\"#E5ECF6\",\"width\":0.5},\"pattern\":{\"fillmode\":\"overlay\",\"size\":10,\"solidity\":0.2}},\"type\":\"bar\"}],\"scattergeo\":[{\"type\":\"scattergeo\",\"marker\":{\"colorbar\":{\"outlinewidth\":0,\"ticks\":\"\"}}}],\"scatterpolar\":[{\"type\":\"scatterpolar\",\"marker\":{\"colorbar\":{\"outlinewidth\":0,\"ticks\":\"\"}}}],\"histogram\":[{\"marker\":{\"pattern\":{\"fillmode\":\"overlay\",\"size\":10,\"solidity\":0.2}},\"type\":\"histogram\"}],\"scattergl\":[{\"type\":\"scattergl\",\"marker\":{\"colorbar\":{\"outlinewidth\":0,\"ticks\":\"\"}}}],\"scatter3d\":[{\"type\":\"scatter3d\",\"line\":{\"colorbar\":{\"outlinewidth\":0,\"ticks\":\"\"}},\"marker\":{\"colorbar\":{\"outlinewidth\":0,\"ticks\":\"\"}}}],\"scattermapbox\":[{\"type\":\"scattermapbox\",\"marker\":{\"colorbar\":{\"outlinewidth\":0,\"ticks\":\"\"}}}],\"scatterternary\":[{\"type\":\"scatterternary\",\"marker\":{\"colorbar\":{\"outlinewidth\":0,\"ticks\":\"\"}}}],\"scattercarpet\":[{\"type\":\"scattercarpet\",\"marker\":{\"colorbar\":{\"outlinewidth\":0,\"ticks\":\"\"}}}],\"carpet\":[{\"aaxis\":{\"endlinecolor\":\"#2a3f5f\",\"gridcolor\":\"white\",\"linecolor\":\"white\",\"minorgridcolor\":\"white\",\"startlinecolor\":\"#2a3f5f\"},\"baxis\":{\"endlinecolor\":\"#2a3f5f\",\"gridcolor\":\"white\",\"linecolor\":\"white\",\"minorgridcolor\":\"white\",\"startlinecolor\":\"#2a3f5f\"},\"type\":\"carpet\"}],\"table\":[{\"cells\":{\"fill\":{\"color\":\"#EBF0F8\"},\"line\":{\"color\":\"white\"}},\"header\":{\"fill\":{\"color\":\"#C8D4E3\"},\"line\":{\"color\":\"white\"}},\"type\":\"table\"}],\"barpolar\":[{\"marker\":{\"line\":{\"color\":\"#E5ECF6\",\"width\":0.5},\"pattern\":{\"fillmode\":\"overlay\",\"size\":10,\"solidity\":0.2}},\"type\":\"barpolar\"}],\"pie\":[{\"automargin\":true,\"type\":\"pie\"}]},\"layout\":{\"autotypenumbers\":\"strict\",\"colorway\":[\"#636efa\",\"#EF553B\",\"#00cc96\",\"#ab63fa\",\"#FFA15A\",\"#19d3f3\",\"#FF6692\",\"#B6E880\",\"#FF97FF\",\"#FECB52\"],\"font\":{\"color\":\"#2a3f5f\"},\"hovermode\":\"closest\",\"hoverlabel\":{\"align\":\"left\"},\"paper_bgcolor\":\"white\",\"plot_bgcolor\":\"#E5ECF6\",\"polar\":{\"bgcolor\":\"#E5ECF6\",\"angularaxis\":{\"gridcolor\":\"white\",\"linecolor\":\"white\",\"ticks\":\"\"},\"radialaxis\":{\"gridcolor\":\"white\",\"linecolor\":\"white\",\"ticks\":\"\"}},\"ternary\":{\"bgcolor\":\"#E5ECF6\",\"aaxis\":{\"gridcolor\":\"white\",\"linecolor\":\"white\",\"ticks\":\"\"},\"baxis\":{\"gridcolor\":\"white\",\"linecolor\":\"white\",\"ticks\":\"\"},\"caxis\":{\"gridcolor\":\"white\",\"linecolor\":\"white\",\"ticks\":\"\"}},\"coloraxis\":{\"colorbar\":{\"outlinewidth\":0,\"ticks\":\"\"}},\"colorscale\":{\"sequential\":[[0.0,\"#0d0887\"],[0.1111111111111111,\"#46039f\"],[0.2222222222222222,\"#7201a8\"],[0.3333333333333333,\"#9c179e\"],[0.4444444444444444,\"#bd3786\"],[0.5555555555555556,\"#d8576b\"],[0.6666666666666666,\"#ed7953\"],[0.7777777777777778,\"#fb9f3a\"],[0.8888888888888888,\"#fdca26\"],[1.0,\"#f0f921\"]],\"sequentialminus\":[[0.0,\"#0d0887\"],[0.1111111111111111,\"#46039f\"],[0.2222222222222222,\"#7201a8\"],[0.3333333333333333,\"#9c179e\"],[0.4444444444444444,\"#bd3786\"],[0.5555555555555556,\"#d8576b\"],[0.6666666666666666,\"#ed7953\"],[0.7777777777777778,\"#fb9f3a\"],[0.8888888888888888,\"#fdca26\"],[1.0,\"#f0f921\"]],\"diverging\":[[0,\"#8e0152\"],[0.1,\"#c51b7d\"],[0.2,\"#de77ae\"],[0.3,\"#f1b6da\"],[0.4,\"#fde0ef\"],[0.5,\"#f7f7f7\"],[0.6,\"#e6f5d0\"],[0.7,\"#b8e186\"],[0.8,\"#7fbc41\"],[0.9,\"#4d9221\"],[1,\"#276419\"]]},\"xaxis\":{\"gridcolor\":\"white\",\"linecolor\":\"white\",\"ticks\":\"\",\"title\":{\"standoff\":15},\"zerolinecolor\":\"white\",\"automargin\":true,\"zerolinewidth\":2},\"yaxis\":{\"gridcolor\":\"white\",\"linecolor\":\"white\",\"ticks\":\"\",\"title\":{\"standoff\":15},\"zerolinecolor\":\"white\",\"automargin\":true,\"zerolinewidth\":2},\"scene\":{\"xaxis\":{\"backgroundcolor\":\"#E5ECF6\",\"gridcolor\":\"white\",\"linecolor\":\"white\",\"showbackground\":true,\"ticks\":\"\",\"zerolinecolor\":\"white\",\"gridwidth\":2},\"yaxis\":{\"backgroundcolor\":\"#E5ECF6\",\"gridcolor\":\"white\",\"linecolor\":\"white\",\"showbackground\":true,\"ticks\":\"\",\"zerolinecolor\":\"white\",\"gridwidth\":2},\"zaxis\":{\"backgroundcolor\":\"#E5ECF6\",\"gridcolor\":\"white\",\"linecolor\":\"white\",\"showbackground\":true,\"ticks\":\"\",\"zerolinecolor\":\"white\",\"gridwidth\":2}},\"shapedefaults\":{\"line\":{\"color\":\"#2a3f5f\"}},\"annotationdefaults\":{\"arrowcolor\":\"#2a3f5f\",\"arrowhead\":0,\"arrowwidth\":1},\"geo\":{\"bgcolor\":\"white\",\"landcolor\":\"#E5ECF6\",\"subunitcolor\":\"white\",\"showland\":true,\"showlakes\":true,\"lakecolor\":\"white\"},\"title\":{\"x\":0.05},\"mapbox\":{\"style\":\"light\"}}},\"scene\":{\"domain\":{\"x\":[0.0,1.0],\"y\":[0.0,1.0]},\"xaxis\":{\"title\":{\"text\":\"Longitude\"}},\"yaxis\":{\"title\":{\"text\":\"Latitude\"}},\"zaxis\":{\"title\":{\"text\":\"Average Rating\"}}},\"coloraxis\":{\"colorbar\":{\"title\":{\"text\":\"Average Rating\"}},\"colorscale\":[[0.0,\"#0d0887\"],[0.1111111111111111,\"#46039f\"],[0.2222222222222222,\"#7201a8\"],[0.3333333333333333,\"#9c179e\"],[0.4444444444444444,\"#bd3786\"],[0.5555555555555556,\"#d8576b\"],[0.6666666666666666,\"#ed7953\"],[0.7777777777777778,\"#fb9f3a\"],[0.8888888888888888,\"#fdca26\"],[1.0,\"#f0f921\"]]},\"legend\":{\"tracegroupgap\":0},\"title\":{\"text\":\"3D Visualization of Average Rating by Store Location\"}},                        {\"responsive\": true}                    ).then(function(){\n",
              "                            \n",
              "var gd = document.getElementById('61c187e5-2259-4963-9bea-5373dccd24e4');\n",
              "var x = new MutationObserver(function (mutations, observer) {{\n",
              "        var display = window.getComputedStyle(gd).display;\n",
              "        if (!display || display === 'none') {{\n",
              "            console.log([gd, 'removed!']);\n",
              "            Plotly.purge(gd);\n",
              "            observer.disconnect();\n",
              "        }}\n",
              "}});\n",
              "\n",
              "// Listen for the removal of the full notebook cells\n",
              "var notebookContainer = gd.closest('#notebook-container');\n",
              "if (notebookContainer) {{\n",
              "    x.observe(notebookContainer, {childList: true});\n",
              "}}\n",
              "\n",
              "// Listen for the clearing of the current output cell\n",
              "var outputEl = gd.closest('.output');\n",
              "if (outputEl) {{\n",
              "    x.observe(outputEl, {childList: true});\n",
              "}}\n",
              "\n",
              "                        })                };                            </script>        </div>\n",
              "</body>\n",
              "</html>"
            ]
          },
          "metadata": {}
        }
      ]
    },
    {
      "cell_type": "code",
      "source": [],
      "metadata": {
        "id": "_Zv_cSGkmOec"
      },
      "execution_count": null,
      "outputs": []
    }
  ]
}